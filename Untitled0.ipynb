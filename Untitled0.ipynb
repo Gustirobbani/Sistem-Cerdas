{
  "nbformat": 4,
  "nbformat_minor": 0,
  "metadata": {
    "colab": {
      "name": "Untitled0.ipynb",
      "provenance": [],
      "collapsed_sections": [],
      "toc_visible": true,
      "authorship_tag": "ABX9TyPiISc/gTVjngKMrY37hrXh",
      "include_colab_link": true
    },
    "kernelspec": {
      "name": "python3",
      "display_name": "Python 3"
    },
    "language_info": {
      "name": "python"
    }
  },
  "cells": [
    {
      "cell_type": "markdown",
      "metadata": {
        "id": "view-in-github",
        "colab_type": "text"
      },
      "source": [
        "<a href=\"https://colab.research.google.com/github/Gustirobbani/Sistem-Cerdas/blob/main/Untitled0.ipynb\" target=\"_parent\"><img src=\"https://colab.research.google.com/assets/colab-badge.svg\" alt=\"Open In Colab\"/></a>"
      ]
    },
    {
      "cell_type": "markdown",
      "metadata": {
        "id": "jKfJZaZqkg5q"
      },
      "source": [
        "## PROGAM PHYTON SEDERHANA\n",
        "\n"
      ]
    },
    {
      "cell_type": "markdown",
      "metadata": {
        "id": "nmDnCliKks9k"
      },
      "source": [
        "Gusti robbani\n"
      ]
    },
    {
      "cell_type": "code",
      "metadata": {
        "colab": {
          "base_uri": "https://localhost:8080/"
        },
        "id": "PLVMD_qvkvj3",
        "outputId": "4eee7888-fb81-4707-d789-eeabc7e62e40"
      },
      "source": [
        "print (\"saya suka machine learningg\")"
      ],
      "execution_count": null,
      "outputs": [
        {
          "output_type": "stream",
          "name": "stdout",
          "text": [
            "saya suka machine learningg\n"
          ]
        }
      ]
    },
    {
      "cell_type": "code",
      "metadata": {
        "colab": {
          "base_uri": "https://localhost:8080/"
        },
        "id": "1Pkcxp5SlAh7",
        "outputId": "a917b971-81ed-46eb-a48c-e54a6c01da75"
      },
      "source": [
        "a = 12\n",
        "b = 17\n",
        "print (a+b)"
      ],
      "execution_count": null,
      "outputs": [
        {
          "output_type": "stream",
          "name": "stdout",
          "text": [
            "29\n"
          ]
        }
      ]
    },
    {
      "cell_type": "code",
      "metadata": {
        "colab": {
          "base_uri": "https://localhost:8080/"
        },
        "id": "9_p6zWMwlObm",
        "outputId": "ac651191-6036-4709-cd83-0852170cdbe3"
      },
      "source": [
        "IPK = 3.45\n",
        "print (\"ipk saya adalah\", IPK)"
      ],
      "execution_count": null,
      "outputs": [
        {
          "output_type": "stream",
          "name": "stdout",
          "text": [
            "ipk saya adalah 3.45\n"
          ]
        }
      ]
    },
    {
      "cell_type": "markdown",
      "metadata": {
        "id": "UrqkksVflQUR"
      },
      "source": [
        "### VARIABEL"
      ]
    },
    {
      "cell_type": "markdown",
      "metadata": {
        "id": "UQtQ-XDllYBF"
      },
      "source": [
        "Gusti robbani"
      ]
    },
    {
      "cell_type": "code",
      "metadata": {
        "colab": {
          "base_uri": "https://localhost:8080/"
        },
        "id": "KASDxUmClZRg",
        "outputId": "eabbd2d9-6727-4caf-bb04-9b078c0ae802"
      },
      "source": [
        "Var = 30 \n",
        "Phi = 3.14 \n",
        "Var2 = 50 \n",
        "Variabel_Saya = \"ini variable milik Gusti robbani\"\n",
        "\n",
        "print (Var) \n",
        "print (Phi) \n",
        "print (Var2) \n",
        "print (Variabel_Saya)"
      ],
      "execution_count": null,
      "outputs": [
        {
          "output_type": "stream",
          "name": "stdout",
          "text": [
            "30\n",
            "3.14\n",
            "50\n",
            "ini variable milik Gusti robbani\n"
          ]
        }
      ]
    },
    {
      "cell_type": "code",
      "metadata": {
        "colab": {
          "base_uri": "https://localhost:8080/",
          "height": 286
        },
        "id": "v-xbUMw_lh8W",
        "outputId": "ccabc85e-67c5-4d8a-c89b-f9e00aa07207"
      },
      "source": [
        "Var = 30 \n",
        "Phi = 3.14 \n",
        "Var2 = 50 \n",
        "Variabel_Saya = \"ini variable milik gusti robbani\"\n",
        "\n",
        "print (Var) \n",
        "print (Phi) \n",
        "print (Var2) \n",
        "print (Variabel_Saya)\n",
        "\n",
        "del(Var)\n",
        "print(Var)"
      ],
      "execution_count": null,
      "outputs": [
        {
          "output_type": "stream",
          "name": "stdout",
          "text": [
            "30\n",
            "3.14\n",
            "50\n",
            "ini variable milik gusti robbani\n"
          ]
        },
        {
          "output_type": "error",
          "ename": "NameError",
          "evalue": "ignored",
          "traceback": [
            "\u001b[0;31m---------------------------------------------------------------------------\u001b[0m",
            "\u001b[0;31mNameError\u001b[0m                                 Traceback (most recent call last)",
            "\u001b[0;32m<ipython-input-5-30f6785d505f>\u001b[0m in \u001b[0;36m<module>\u001b[0;34m()\u001b[0m\n\u001b[1;32m     10\u001b[0m \u001b[0;34m\u001b[0m\u001b[0m\n\u001b[1;32m     11\u001b[0m \u001b[0;32mdel\u001b[0m\u001b[0;34m(\u001b[0m\u001b[0mVar\u001b[0m\u001b[0;34m)\u001b[0m\u001b[0;34m\u001b[0m\u001b[0;34m\u001b[0m\u001b[0m\n\u001b[0;32m---> 12\u001b[0;31m \u001b[0mprint\u001b[0m\u001b[0;34m(\u001b[0m\u001b[0mVar\u001b[0m\u001b[0;34m)\u001b[0m\u001b[0;34m\u001b[0m\u001b[0;34m\u001b[0m\u001b[0m\n\u001b[0m",
            "\u001b[0;31mNameError\u001b[0m: name 'Var' is not defined"
          ]
        }
      ]
    },
    {
      "cell_type": "markdown",
      "metadata": {
        "id": "x8uFRuBolwg8"
      },
      "source": [
        "### TIPE DATA"
      ]
    },
    {
      "cell_type": "markdown",
      "metadata": {
        "id": "xvmFoQkwlyGq"
      },
      "source": [
        "Gusti robbani\n"
      ]
    },
    {
      "cell_type": "code",
      "metadata": {
        "colab": {
          "base_uri": "https://localhost:8080/"
        },
        "id": "k-BPnp34lzy2",
        "outputId": "dca724f3-f3ea-446e-b07f-533c8b4596e4"
      },
      "source": [
        "nama = \"Gusti robbani\"\n",
        "alamat = \"\"\"Jl. kyai quthub Ds. Banjarturi\n",
        "KABUPATEN TEGAL\"\"\"\n",
        "\n",
        "print (nama)\n",
        "print (alamat)"
      ],
      "execution_count": null,
      "outputs": [
        {
          "output_type": "stream",
          "name": "stdout",
          "text": [
            "Gusti robbani\n",
            "Jl. kyai quthub Ds. Banjarturi\n",
            "KABUPATEN TEGAL\n"
          ]
        }
      ]
    },
    {
      "cell_type": "code",
      "metadata": {
        "colab": {
          "base_uri": "https://localhost:8080/"
        },
        "id": "BDPnQ1dZmjKw",
        "outputId": "00aad476-bc91-4df3-8789-8a0a4a6cb187"
      },
      "source": [
        "harga = 12.000 #var harga, integer\n",
        "berat = 23.12 #var berat, float\n",
        "\n",
        "print (harga)\n",
        "print (berat)\n",
        "print (harga+berat)"
      ],
      "execution_count": null,
      "outputs": [
        {
          "output_type": "stream",
          "name": "stdout",
          "text": [
            "12.0\n",
            "23.12\n",
            "35.120000000000005\n"
          ]
        }
      ]
    },
    {
      "cell_type": "markdown",
      "metadata": {
        "id": "f59xaN_2mpsC"
      },
      "source": [
        "### OPERATOR"
      ]
    },
    {
      "cell_type": "markdown",
      "metadata": {
        "id": "URf-FNBymsLR"
      },
      "source": [
        "Gusti robbani"
      ]
    },
    {
      "cell_type": "code",
      "metadata": {
        "colab": {
          "base_uri": "https://localhost:8080/"
        },
        "id": "xbLJ-3y3muFG",
        "outputId": "1045d8ba-6ec4-4b31-c225-8dd430a1d604"
      },
      "source": [
        "a = 10\n",
        "print (a)\n",
        "\n",
        "a +=5\n",
        "print (a)"
      ],
      "execution_count": null,
      "outputs": [
        {
          "output_type": "stream",
          "name": "stdout",
          "text": [
            "10\n",
            "15\n"
          ]
        }
      ]
    },
    {
      "cell_type": "code",
      "metadata": {
        "colab": {
          "base_uri": "https://localhost:8080/"
        },
        "id": "-DnPLKE4m0PR",
        "outputId": "09c2edd3-0c6e-47fe-eee0-c7581e5fdd58"
      },
      "source": [
        "name = input (\"nama kamu \")\n",
        "age = input (\"umur kamu \")\n",
        "\n",
        "print(\"nama kamu adalah\", name, \"umur kamu adalah\", age)"
      ],
      "execution_count": null,
      "outputs": [
        {
          "output_type": "stream",
          "name": "stdout",
          "text": [
            "nama kamu Gusti robbani\n",
            "umur kamu 21 tahun\n",
            "nama kamu adalah Gusti robbani umur kamu adalah 21 tahun\n"
          ]
        }
      ]
    },
    {
      "cell_type": "markdown",
      "metadata": {
        "id": "OwyEgdbTnOoE"
      },
      "source": [
        "### FUNGSI"
      ]
    },
    {
      "cell_type": "markdown",
      "metadata": {
        "id": "wuLaW3cVnRj1"
      },
      "source": [
        "Gusti robbani\n"
      ]
    },
    {
      "cell_type": "code",
      "metadata": {
        "colab": {
          "base_uri": "https://localhost:8080/"
        },
        "id": "qAtt0ICEnTWv",
        "outputId": "b66f26d1-7e9e-4c65-bfcb-98a434607490"
      },
      "source": [
        "def luassegi3 (alas, tinggi):\n",
        "  luas = (alas*tinggi)/2\n",
        "  print (\"luas segitiga = \", luas)\n",
        "\n",
        "luassegi3 (6, 7)\n",
        "luassegi3 (20, 10)"
      ],
      "execution_count": null,
      "outputs": [
        {
          "output_type": "stream",
          "name": "stdout",
          "text": [
            "luas segitiga =  21.0\n",
            "luas segitiga =  100.0\n"
          ]
        }
      ]
    },
    {
      "cell_type": "code",
      "metadata": {
        "colab": {
          "base_uri": "https://localhost:8080/"
        },
        "id": "oPpSio3unZ_8",
        "outputId": "a4fd5ab9-9159-4326-a569-0e3113eeb848"
      },
      "source": [
        "def luassegi3 (alas, tinggi):\n",
        "  luas = (alas*tinggi)/2\n",
        "  return luas\n",
        "\n",
        "print (\"luas segitiga pertama = \", luassegi3 (7, 6))\n",
        "print (\"luas segitiga kedua = \", luassegi3 (20, 30))"
      ],
      "execution_count": null,
      "outputs": [
        {
          "output_type": "stream",
          "name": "stdout",
          "text": [
            "luas segitiga pertama =  21.0\n",
            "luas segitiga kedua =  300.0\n"
          ]
        }
      ]
    },
    {
      "cell_type": "code",
      "metadata": {
        "colab": {
          "base_uri": "https://localhost:8080/"
        },
        "id": "5OrZ9zT4n_kW",
        "outputId": "4c9045b8-699c-4264-d71a-543dd0005b85"
      },
      "source": [
        "nama = \"Python\"\n",
        "versi = \"3.0.0\"\n",
        "\n",
        "def tentang():\n",
        "\tnama = \"Program\"\n",
        "\tversi = \"Aplikasi Biodata\"\n",
        "\tprint(\"Nama: \", nama)\n",
        "\tprint(\"Versi: \", versi)\n",
        "\n",
        "print(\"Nama: \", nama)\n",
        "print(\"Versi: \", versi)\n",
        "\n",
        "tentang()"
      ],
      "execution_count": null,
      "outputs": [
        {
          "output_type": "stream",
          "name": "stdout",
          "text": [
            "Nama:  Python\n",
            "Versi:  3.0.0\n",
            "Nama:  Program\n",
            "Versi:  Aplikasi Biodata\n"
          ]
        }
      ]
    },
    {
      "cell_type": "code",
      "metadata": {
        "colab": {
          "base_uri": "https://localhost:8080/"
        },
        "id": "HqUqfp4uohfC",
        "outputId": "bf10d257-b502-4af0-ecf4-2b16a4fd3965"
      },
      "source": [
        "def luassegi3 (alas, tinggi):\n",
        "\tluas = (alas * tinggi)/2\n",
        "\treturn luas\n",
        "\n",
        "print(\"luas segitiga pertama = \",luassegi3(8,9))\n",
        "print(\"luas segitiga kedua = \",luassegi3(10,30))"
      ],
      "execution_count": null,
      "outputs": [
        {
          "output_type": "stream",
          "name": "stdout",
          "text": [
            "luas segitiga pertama =  36.0\n",
            "luas segitiga kedua =  150.0\n"
          ]
        }
      ]
    },
    {
      "cell_type": "markdown",
      "metadata": {
        "id": "Z82uJQuYoji2"
      },
      "source": [
        "## TUGAS PRATIKUM"
      ]
    },
    {
      "cell_type": "markdown",
      "metadata": {
        "id": "o71b9AeTooLZ"
      },
      "source": [
        "Gusti robbani"
      ]
    },
    {
      "cell_type": "code",
      "metadata": {
        "id": "0EQydotXorJf"
      },
      "source": [
        ""
      ],
      "execution_count": null,
      "outputs": []
    }
  ]
}